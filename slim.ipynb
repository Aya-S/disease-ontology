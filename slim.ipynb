{
 "cells": [
  {
   "cell_type": "code",
   "execution_count": 1,
   "metadata": {
    "collapsed": true
   },
   "outputs": [],
   "source": [
    "import os\n",
    "\n",
    "import pandas\n",
    "import networkx\n",
    "\n",
    "import do_tools"
   ]
  },
  {
   "cell_type": "code",
   "execution_count": 2,
   "metadata": {
    "collapsed": false
   },
   "outputs": [],
   "source": [
    "# read the disease ontology\n",
    "path = os.path.join('download', 'HumanDO.obo')\n",
    "do = do_tools.load_do(path)\n",
    "dox = do_tools.do_to_networkx(do)\n"
   ]
  },
  {
   "cell_type": "code",
   "execution_count": 3,
   "metadata": {
    "collapsed": false
   },
   "outputs": [
    {
     "data": {
      "text/html": [
       "<div>\n",
       "<table border=\"1\" class=\"dataframe\">\n",
       "  <thead>\n",
       "    <tr style=\"text-align: right;\">\n",
       "      <th></th>\n",
       "      <th>doid</th>\n",
       "      <th>name</th>\n",
       "      <th>source</th>\n",
       "      <th>pathophysiology</th>\n",
       "    </tr>\n",
       "  </thead>\n",
       "  <tbody>\n",
       "    <tr>\n",
       "      <th>0</th>\n",
       "      <td>DOID:2531</td>\n",
       "      <td>Hematologic cancer</td>\n",
       "      <td>DOcancerslim</td>\n",
       "      <td>neoplastic</td>\n",
       "    </tr>\n",
       "    <tr>\n",
       "      <th>1</th>\n",
       "      <td>DOID:1319</td>\n",
       "      <td>Brain cancer</td>\n",
       "      <td>DOcancerslim</td>\n",
       "      <td>neoplastic</td>\n",
       "    </tr>\n",
       "    <tr>\n",
       "      <th>2</th>\n",
       "      <td>DOID:1324</td>\n",
       "      <td>Lung cancer</td>\n",
       "      <td>DOcancerslim</td>\n",
       "      <td>neoplastic</td>\n",
       "    </tr>\n",
       "  </tbody>\n",
       "</table>\n",
       "</div>"
      ],
      "text/plain": [
       "        doid                name        source pathophysiology\n",
       "0  DOID:2531  Hematologic cancer  DOcancerslim      neoplastic\n",
       "1  DOID:1319        Brain cancer  DOcancerslim      neoplastic\n",
       "2  DOID:1324         Lung cancer  DOcancerslim      neoplastic"
      ]
     },
     "execution_count": 3,
     "metadata": {},
     "output_type": "execute_result"
    }
   ],
   "source": [
    "# read the slim disease ontology terms\n",
    "path = os.path.join('data', 'slim-terms.tsv')\n",
    "slim_df = pandas.read_table(path)\n",
    "slim_df[:3]"
   ]
  },
  {
   "cell_type": "code",
   "execution_count": 4,
   "metadata": {
    "collapsed": false,
    "scrolled": true
   },
   "outputs": [],
   "source": [
    "# Convert DO slim names to those in the ontology\n",
    "id_to_name = {node.id: node.name for node in dox}\n",
    "slim_df.name = slim_df.doid.map(id_to_name).tolist()\n",
    "slim_df.to_csv(path, sep='\\t', index=False)"
   ]
  },
  {
   "cell_type": "code",
   "execution_count": null,
   "metadata": {
    "collapsed": false
   },
   "outputs": [],
   "source": [
    "# check for terms that in slim but not in the DO\n",
    "all_doids = set(do.get_term_ids())\n",
    "slim_doids = set(slim_df.doid)\n",
    "unmatched = slim_doids - all_doids\n",
    "slim_doids &= all_doids\n",
    "slim_df.loc[slim_df.doid.isin(unmatched)]"
   ]
  },
  {
   "cell_type": "code",
   "execution_count": null,
   "metadata": {
    "collapsed": false
   },
   "outputs": [],
   "source": [
    "# check for node redundancy\n",
    "slim_terms = set(map(do.get_term, slim_doids))\n",
    "for term in slim_terms:\n",
    "    nodes_to_root = networkx.descendants(dox, term)\n",
    "    conflicts = {x.name for x in nodes_to_root & slim_terms}\n",
    "    if conflicts:\n",
    "        print(term.name, conflicts)"
   ]
  },
  {
   "cell_type": "code",
   "execution_count": null,
   "metadata": {
    "collapsed": false
   },
   "outputs": [],
   "source": [
    "path = os.path.join('data', 'xrefs.tsv')\n",
    "map_unprop_df = pandas.read_table(path)\n",
    "\n",
    "path = os.path.join('data', 'xrefs-prop.tsv')\n",
    "map_prop_df = pandas.read_table(path)"
   ]
  },
  {
   "cell_type": "code",
   "execution_count": null,
   "metadata": {
    "collapsed": false
   },
   "outputs": [],
   "source": [
    "slim_df = slim_df.rename(columns={'doid': 'doid_code'})\n",
    "slim_map_unprop_df = slim_df[['doid_code']].merge(map_unprop_df)\n",
    "slim_map_prop_df = slim_df[['doid_code']].merge(map_prop_df)\n",
    "slim_map_prop_df[:3]"
   ]
  },
  {
   "cell_type": "code",
   "execution_count": null,
   "metadata": {
    "collapsed": false
   },
   "outputs": [],
   "source": [
    "path = os.path.join('data', 'xrefs-slim.tsv')\n",
    "slim_map_unprop_df.to_csv(path, sep='\\t', index=False)\n",
    "\n",
    "path = os.path.join('data', 'xrefs-prop-slim.tsv')\n",
    "slim_map_prop_df.to_csv(path, sep='\\t', index=False)"
   ]
  },
  {
   "cell_type": "code",
   "execution_count": null,
   "metadata": {
    "collapsed": true
   },
   "outputs": [],
   "source": []
  },
  {
   "cell_type": "code",
   "execution_count": null,
   "metadata": {
    "collapsed": false
   },
   "outputs": [],
   "source": [
    "rows = list()\n",
    "for term in slim_terms:\n",
    "    subsumed = networkx.ancestors(dox, term)\n",
    "    row_part = [term.id, term.name]\n",
    "    rows.append(row_part + row_part + [0])\n",
    "    for subterm in subsumed:\n",
    "        distance = networkx.shortest_path_length(dox, subterm, term)\n",
    "        rows.append(row_part + [subterm.id, subterm.name, distance])\n",
    "rows.sort()\n",
    "\n",
    "slim_prop_df = pandas.DataFrame(rows, columns=['slim_id', 'slim_name', 'subsumed_id', 'subsumed_name', 'min_distance'])\n",
    "path = os.path.join('data', 'slim-terms-prop.tsv')\n",
    "slim_prop_df.to_csv(path, sep='\\t', index=False)"
   ]
  },
  {
   "cell_type": "code",
   "execution_count": null,
   "metadata": {
    "collapsed": false
   },
   "outputs": [],
   "source": []
  }
 ],
 "metadata": {
  "kernelspec": {
   "display_name": "Python 3",
   "language": "python",
   "name": "python3"
  },
  "language_info": {
   "codemirror_mode": {
    "name": "ipython",
    "version": 3
   },
   "file_extension": ".py",
   "mimetype": "text/x-python",
   "name": "python",
   "nbconvert_exporter": "python",
   "pygments_lexer": "ipython3",
   "version": "3.5.1"
  }
 },
 "nbformat": 4,
 "nbformat_minor": 0
}
