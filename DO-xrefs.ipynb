{
 "cells": [
  {
   "cell_type": "code",
   "execution_count": 1,
   "metadata": {
    "collapsed": true
   },
   "outputs": [],
   "source": [
    "import os\n",
    "import csv\n",
    "\n",
    "import networkx\n",
    "\n",
    "import do_tools"
   ]
  },
  {
   "cell_type": "code",
   "execution_count": null,
   "metadata": {
    "collapsed": false
   },
   "outputs": [],
   "source": []
  },
  {
   "cell_type": "code",
   "execution_count": 2,
   "metadata": {
    "collapsed": false
   },
   "outputs": [
    {
     "name": "stdout",
     "output_type": "stream",
     "text": [
      "Checked out revision 2810.\r\n"
     ]
    }
   ],
   "source": [
    "! svn checkout svn://svn.code.sf.net/p/diseaseontology/code/trunk/ download"
   ]
  },
  {
   "cell_type": "code",
   "execution_count": null,
   "metadata": {
    "collapsed": false
   },
   "outputs": [],
   "source": []
  },
  {
   "cell_type": "code",
   "execution_count": 3,
   "metadata": {
    "collapsed": false
   },
   "outputs": [],
   "source": [
    "path = os.path.join('download', 'HumanDO.obo')\n",
    "do = do_tools.load_do(path)\n",
    "dox = do_tools.do_to_networkx(do)"
   ]
  },
  {
   "cell_type": "code",
   "execution_count": 4,
   "metadata": {
    "collapsed": false
   },
   "outputs": [
    {
     "data": {
      "text/plain": [
       "<IGS_scripts.term.Term at 0x7f3196f29eb8>"
      ]
     },
     "execution_count": 4,
     "metadata": {},
     "output_type": "execute_result"
    }
   ],
   "source": [
    "do.get_term_ids()\n",
    "do.get_term('DOID:0050234')"
   ]
  },
  {
   "cell_type": "code",
   "execution_count": 5,
   "metadata": {
    "collapsed": false
   },
   "outputs": [
    {
     "data": {
      "text/plain": [
       "{'alternateIds': [],\n",
       " 'definition': '\"A demyelinating disease that involves damage to the fatty myelin sheaths around the axons of the brain and spinal cord resulting in demyelination and scarring.\" [url:http\\\\://en.wikipedia.org/wiki/Multiple_sclerosis]',\n",
       " 'id': 'DOID:2377',\n",
       " 'name': 'multiple sclerosis',\n",
       " 'obsolete': False,\n",
       " 'relationships': [('is_a', 'DOID:3213', 'demyelinating disease')],\n",
       " 'subsets': [],\n",
       " 'synonyms': [('Generalized multiple sclerosis (disorder)',\n",
       "   'EXACT',\n",
       "   'SNOMEDCT_2005_07_31:192928003'),\n",
       "  ('insular sclerosis', 'EXACT', 'CSP2005:2042-2324')],\n",
       " 'xrefs': ['EFO:0003885',\n",
       "  'ICD9CM:340',\n",
       "  'MSH:D009103',\n",
       "  'NCI:C3243',\n",
       "  'OMIM:126200',\n",
       "  'OMIM:612594',\n",
       "  'OMIM:612595',\n",
       "  'OMIM:612596',\n",
       "  'OMIM:614810',\n",
       "  'SNOMEDCT_2010_1_31:155023009',\n",
       "  'SNOMEDCT_2010_1_31:192928003',\n",
       "  'SNOMEDCT_2010_1_31:192930001',\n",
       "  'SNOMEDCT_2010_1_31:24700007',\n",
       "  'UMLS_CUI:C0026769']}"
      ]
     },
     "execution_count": 5,
     "metadata": {},
     "output_type": "execute_result"
    }
   ],
   "source": [
    "term = do.get_term('DOID:2377')\n",
    "term.__dict__"
   ]
  },
  {
   "cell_type": "code",
   "execution_count": null,
   "metadata": {
    "collapsed": false
   },
   "outputs": [],
   "source": []
  },
  {
   "cell_type": "code",
   "execution_count": 6,
   "metadata": {
    "collapsed": false
   },
   "outputs": [],
   "source": [
    "xref_rename = {\n",
    "    'ICD10CM': 'ICD10',\n",
    "    'ICD9CM': 'ICD9',\n",
    "    'IDC10CM': 'ICD10',\n",
    "    'IDC9CM': 'ICD9',\n",
    "    'MedDRA': 'MEDDRA',\n",
    "    'NCI2009_04D': 'NCI',\n",
    "    'SNOMEDCT_2010_1_31': 'SNOMEDCT',\n",
    "    'SNOMEDCT_2013_01_31': 'SNOMEDCT',\n",
    "    'UMLS_CUI': 'UMLS',\n",
    "    'UML_CUI': 'UMLS',\n",
    "}"
   ]
  },
  {
   "cell_type": "code",
   "execution_count": 7,
   "metadata": {
    "collapsed": false
   },
   "outputs": [],
   "source": [
    "def write_xref_row(writer, doid_code, doid_name, xrefs, rename_dict):\n",
    "    rows = list()\n",
    "    for xref in xrefs:\n",
    "        resource, resource_id = xref.split(':', 1)\n",
    "        if resource in rename_dict:\n",
    "            resource = rename_dict[resource]\n",
    "        rows.append([doid_code, doid_name, resource, resource_id])\n",
    "    rows.sort()\n",
    "    writer.writerows(rows)\n",
    "\n",
    "file_unprop = open(os.path.join('data', 'xrefs.tsv'), 'w')\n",
    "file_prop = open(os.path.join('data', 'xrefs-prop.tsv'), 'w')\n",
    "\n",
    "writer_unprop = csv.writer(file_unprop, delimiter='\\t')\n",
    "writer_prop = csv.writer(file_prop, delimiter='\\t')\n",
    "\n",
    "for writer in writer_unprop, writer_prop:\n",
    "    writer.writerow(['doid_code', 'doid_name', 'resource', 'resource_id'])\n",
    "\n",
    "for term in networkx.topological_sort_recursive(dox, reverse=True):\n",
    "    xrefs = set(term.xrefs)\n",
    "    xrefs_prop = set(xrefs)\n",
    "    for ancestor in networkx.ancestors(dox, term):\n",
    "        xrefs_prop |= set(ancestor.xrefs)\n",
    "    \n",
    "    write_xref_row(writer_unprop, term.id, term.name, xrefs, xref_rename)\n",
    "    write_xref_row(writer_prop, term.id, term.name, xrefs_prop, xref_rename)\n",
    "\n",
    "for write_file in file_unprop, file_prop:\n",
    "    write_file.close()\n"
   ]
  },
  {
   "cell_type": "code",
   "execution_count": 8,
   "metadata": {
    "collapsed": false
   },
   "outputs": [
    {
     "data": {
      "text/plain": [
       "{'CSP',\n",
       " 'CTV3',\n",
       " 'EFO',\n",
       " 'EFOpat_id',\n",
       " 'HP',\n",
       " 'ICD10',\n",
       " 'ICD9',\n",
       " 'KEGG',\n",
       " 'MEDDRA',\n",
       " 'MSH',\n",
       " 'MTH',\n",
       " 'NCI',\n",
       " 'NDFRT',\n",
       " 'OMIM',\n",
       " 'ORDO',\n",
       " 'Orphanet',\n",
       " 'SNOMEDCT',\n",
       " 'UMLS',\n",
       " 'WHO'}"
      ]
     },
     "execution_count": 8,
     "metadata": {},
     "output_type": "execute_result"
    }
   ],
   "source": [
    "# list of xrefs\n",
    "import pandas\n",
    "path = os.path.join('data', 'xrefs.tsv')\n",
    "xref_df = pandas.read_table(path)\n",
    "set(xref_df.resource)"
   ]
  },
  {
   "cell_type": "code",
   "execution_count": 9,
   "metadata": {
    "collapsed": false
   },
   "outputs": [],
   "source": [
    "# create a name to term mapping\n",
    "rows = list()\n",
    "for term in dox:\n",
    "    rows.append({'doid': term.id, 'name': term.name, 'type': 'name'})\n",
    "    for synonym in term.synonyms:\n",
    "        rows.append({'doid': term.id, 'name': synonym[0], 'type': '{}-synonym'.format(synonym[1].lower())})\n",
    "path = os.path.join('data', 'term-names.tsv')\n",
    "with open(path, 'w') as write_file:\n",
    "    writer = csv.DictWriter(write_file, delimiter='\\t', fieldnames=['doid', 'name', 'type'])\n",
    "    writer.writeheader()\n",
    "    writer.writerows(rows)"
   ]
  },
  {
   "cell_type": "code",
   "execution_count": null,
   "metadata": {
    "collapsed": true
   },
   "outputs": [],
   "source": []
  }
 ],
 "metadata": {
  "kernelspec": {
   "display_name": "Python 3",
   "language": "python",
   "name": "python3"
  },
  "language_info": {
   "codemirror_mode": {
    "name": "ipython",
    "version": 3
   },
   "file_extension": ".py",
   "mimetype": "text/x-python",
   "name": "python",
   "nbconvert_exporter": "python",
   "pygments_lexer": "ipython3",
   "version": "3.4.0"
  }
 },
 "nbformat": 4,
 "nbformat_minor": 0
}
