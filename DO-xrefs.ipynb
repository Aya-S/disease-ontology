{
 "cells": [
  {
   "cell_type": "code",
   "execution_count": 14,
   "metadata": {
    "collapsed": true
   },
   "outputs": [],
   "source": [
    "import os\n",
    "import csv\n",
    "\n",
    "import networkx\n",
    "\n",
    "import do_tools"
   ]
  },
  {
   "cell_type": "code",
   "execution_count": 2,
   "metadata": {
    "collapsed": false
   },
   "outputs": [],
   "source": []
  },
  {
   "cell_type": "code",
   "execution_count": 9,
   "metadata": {
    "collapsed": false
   },
   "outputs": [
    {
     "name": "stdout",
     "output_type": "stream",
     "text": [
      "Checked out revision 2810.\r\n"
     ]
    }
   ],
   "source": [
    "! svn checkout svn://svn.code.sf.net/p/diseaseontology/code/trunk/ download"
   ]
  },
  {
   "cell_type": "code",
   "execution_count": 3,
   "metadata": {
    "collapsed": false
   },
   "outputs": [],
   "source": []
  },
  {
   "cell_type": "code",
   "execution_count": 10,
   "metadata": {
    "collapsed": false
   },
   "outputs": [],
   "source": [
    "path = os.path.join('download', 'HumanDO.obo')\n",
    "do = do_tools.load_do(path)\n",
    "dox = do_tools.do_to_networkx(do)"
   ]
  },
  {
   "cell_type": "code",
   "execution_count": 11,
   "metadata": {
    "collapsed": false
   },
   "outputs": [
    {
     "data": {
      "text/plain": [
       "<IGS_scripts.term.Term at 0x7fa54d2b8dd8>"
      ]
     },
     "execution_count": 11,
     "metadata": {},
     "output_type": "execute_result"
    }
   ],
   "source": [
    "do.get_term_ids()\n",
    "do.get_term('DOID:0050234')"
   ]
  },
  {
   "cell_type": "code",
   "execution_count": 12,
   "metadata": {
    "collapsed": false
   },
   "outputs": [
    {
     "data": {
      "text/plain": [
       "{'alternateIds': [],\n",
       " 'definition': '\"A demyelinating disease that involves damage to the fatty myelin sheaths around the axons of the brain and spinal cord resulting in demyelination and scarring.\" [url:http\\\\://en.wikipedia.org/wiki/Multiple_sclerosis]',\n",
       " 'id': 'DOID:2377',\n",
       " 'name': 'multiple sclerosis',\n",
       " 'obsolete': False,\n",
       " 'relationships': [('is_a', 'DOID:3213', 'demyelinating disease')],\n",
       " 'subsets': [],\n",
       " 'synonyms': [('Generalized multiple sclerosis (disorder)',\n",
       "   'EXACT',\n",
       "   'SNOMEDCT_2005_07_31:192928003'),\n",
       "  ('insular sclerosis', 'EXACT', 'CSP2005:2042-2324')],\n",
       " 'xrefs': ['EFO:0003885',\n",
       "  'ICD9CM:340',\n",
       "  'MSH:D009103',\n",
       "  'NCI:C3243',\n",
       "  'OMIM:126200',\n",
       "  'OMIM:612594',\n",
       "  'OMIM:612595',\n",
       "  'OMIM:612596',\n",
       "  'OMIM:614810',\n",
       "  'SNOMEDCT_2010_1_31:155023009',\n",
       "  'SNOMEDCT_2010_1_31:192928003',\n",
       "  'SNOMEDCT_2010_1_31:192930001',\n",
       "  'SNOMEDCT_2010_1_31:24700007',\n",
       "  'UMLS_CUI:C0026769']}"
      ]
     },
     "execution_count": 12,
     "metadata": {},
     "output_type": "execute_result"
    }
   ],
   "source": [
    "term = do.get_term('DOID:2377')\n",
    "term.__dict__"
   ]
  },
  {
   "cell_type": "code",
   "execution_count": null,
   "metadata": {
    "collapsed": false
   },
   "outputs": [],
   "source": []
  },
  {
   "cell_type": "code",
   "execution_count": null,
   "metadata": {
    "collapsed": false
   },
   "outputs": [],
   "source": []
  },
  {
   "cell_type": "code",
   "execution_count": 15,
   "metadata": {
    "collapsed": false
   },
   "outputs": [],
   "source": [
    "def write_xref_row(writer, doid_code, doid_name, xrefs):\n",
    "    rows = list()\n",
    "    for xref in xrefs:\n",
    "        resource, resource_id = xref.split(':', 1)\n",
    "        rows.append([doid_code, doid_name, resource, resource_id])\n",
    "    rows.sort()\n",
    "    writer.writerows(rows)\n",
    "\n",
    "file_unprop = open(os.path.join('data', 'xrefs.tsv'), 'w')\n",
    "file_prop = open(os.path.join('data', 'xrefs-prop.tsv'), 'w')\n",
    "\n",
    "writer_unprop = csv.writer(file_unprop, delimiter='\\t')\n",
    "writer_prop = csv.writer(file_prop, delimiter='\\t')\n",
    "\n",
    "for writer in writer_unprop, writer_prop:\n",
    "    writer.writerow(['doid_code', 'doid_name', 'resource', 'resource_id'])\n",
    "\n",
    "for term in networkx.topological_sort_recursive(dox, reverse=True):\n",
    "    xrefs = set(term.xrefs)\n",
    "    xrefs_prop = set(xrefs)\n",
    "    for ancestor in networkx.ancestors(dox, term):\n",
    "        xrefs_prop |= set(ancestor.xrefs)\n",
    "    \n",
    "    write_xref_row(writer_unprop, term.id, term.name, xrefs)\n",
    "    write_xref_row(writer_prop, term.id, term.name, xrefs_prop)\n",
    "\n",
    "for write_file in file_unprop, file_prop:\n",
    "    write_file.close()\n"
   ]
  },
  {
   "cell_type": "code",
   "execution_count": null,
   "metadata": {
    "collapsed": true
   },
   "outputs": [],
   "source": []
  },
  {
   "cell_type": "code",
   "execution_count": 16,
   "metadata": {
    "collapsed": false
   },
   "outputs": [],
   "source": [
    "rows = list()\n",
    "for term in dox:\n",
    "    rows.append({'doid': term.id, 'name': term.name, 'type': 'name'})\n",
    "    for synonym in term.synonyms:\n",
    "        rows.append({'doid': term.id, 'name': synonym[0], 'type': '{}-synonym'.format(synonym[1].lower())})\n",
    "path = os.path.join('data', 'term-names.tsv')\n",
    "with open(path, 'w') as write_file:\n",
    "    writer = csv.DictWriter(write_file, delimiter='\\t', fieldnames=['doid', 'name', 'type'])\n",
    "    writer.writeheader()\n",
    "    writer.writerows(rows)"
   ]
  },
  {
   "cell_type": "code",
   "execution_count": null,
   "metadata": {
    "collapsed": true
   },
   "outputs": [],
   "source": []
  }
 ],
 "metadata": {
  "kernelspec": {
   "display_name": "Python 3",
   "language": "python",
   "name": "python3"
  },
  "language_info": {
   "codemirror_mode": {
    "name": "ipython",
    "version": 3
   },
   "file_extension": ".py",
   "mimetype": "text/x-python",
   "name": "python",
   "nbconvert_exporter": "python",
   "pygments_lexer": "ipython3",
   "version": "3.4.0"
  }
 },
 "nbformat": 4,
 "nbformat_minor": 0
}
