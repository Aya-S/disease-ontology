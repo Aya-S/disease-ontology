{
 "cells": [
  {
   "cell_type": "code",
   "execution_count": 1,
   "metadata": {
    "collapsed": true
   },
   "outputs": [],
   "source": [
    "import os\n",
    "import csv"
   ]
  },
  {
   "cell_type": "code",
   "execution_count": null,
   "metadata": {
    "collapsed": false
   },
   "outputs": [],
   "source": []
  },
  {
   "cell_type": "code",
   "execution_count": 2,
   "metadata": {
    "collapsed": false
   },
   "outputs": [],
   "source": [
    "#! svn checkout svn://svn.code.sf.net/p/diseaseontology/code/trunk/ download"
   ]
  },
  {
   "cell_type": "code",
   "execution_count": 3,
   "metadata": {
    "collapsed": false
   },
   "outputs": [],
   "source": [
    "import sys\n",
    "sys.path.append('IGS_scripts')\n",
    "\n",
    "import oboparser"
   ]
  },
  {
   "cell_type": "code",
   "execution_count": 4,
   "metadata": {
    "collapsed": false
   },
   "outputs": [],
   "source": [
    "#import imp\n",
    "#imp.reload(oboparser)\n",
    "path = os.path.join('download', 'HumanDO.obo')\n",
    "do = oboparser.parse(path, ['is_a'])"
   ]
  },
  {
   "cell_type": "code",
   "execution_count": 5,
   "metadata": {
    "collapsed": false
   },
   "outputs": [
    {
     "data": {
      "text/plain": [
       "<term.Term at 0x7f90d806a7f0>"
      ]
     },
     "execution_count": 5,
     "metadata": {},
     "output_type": "execute_result"
    }
   ],
   "source": [
    "do.get_term_ids()\n",
    "do.get_term('DOID:0050234')"
   ]
  },
  {
   "cell_type": "code",
   "execution_count": 6,
   "metadata": {
    "collapsed": false
   },
   "outputs": [
    {
     "data": {
      "text/plain": [
       "{'alternateIds': [],\n",
       " 'definition': '\"A demyelinating disease that involves damage to the fatty myelin sheaths around the axons of the brain and spinal cord resulting in demyelination and scarring.\" [url:http\\\\://en.wikipedia.org/wiki/Multiple_sclerosis]',\n",
       " 'id': 'DOID:2377',\n",
       " 'name': 'multiple sclerosis',\n",
       " 'obsolete': False,\n",
       " 'relationships': [('is_a', 'DOID:3213', 'demyelinating disease')],\n",
       " 'subsets': [],\n",
       " 'synonyms': [('Generalized multiple sclerosis (disorder)',\n",
       "   'EXACT',\n",
       "   'SNOMEDCT_2005_07_31:192928003'),\n",
       "  ('insular sclerosis', 'EXACT', 'CSP2005:2042-2324')],\n",
       " 'xrefs': ['EFO:0003885',\n",
       "  'ICD9CM:340',\n",
       "  'MSH:D009103',\n",
       "  'NCI:C3243',\n",
       "  'OMIM:126200',\n",
       "  'OMIM:612594',\n",
       "  'OMIM:612595',\n",
       "  'OMIM:612596',\n",
       "  'OMIM:614810',\n",
       "  'SNOMEDCT_2010_1_31:155023009',\n",
       "  'SNOMEDCT_2010_1_31:192928003',\n",
       "  'SNOMEDCT_2010_1_31:192930001',\n",
       "  'SNOMEDCT_2010_1_31:24700007',\n",
       "  'UMLS_CUI:C0026769']}"
      ]
     },
     "execution_count": 6,
     "metadata": {},
     "output_type": "execute_result"
    }
   ],
   "source": [
    "term = do.get_term('DOID:2377')\n",
    "term.__dict__"
   ]
  },
  {
   "cell_type": "code",
   "execution_count": null,
   "metadata": {
    "collapsed": false
   },
   "outputs": [],
   "source": []
  },
  {
   "cell_type": "code",
   "execution_count": 7,
   "metadata": {
    "collapsed": false
   },
   "outputs": [],
   "source": [
    "# Create a networkx representation\n",
    "import networkx\n",
    "terms = do.get_terms()\n",
    "dox = networkx.MultiDiGraph()\n",
    "dox.add_nodes_from(term for term in terms if not term.obsolete)\n",
    "for term in dox:\n",
    "    for typedef, id_, name in term.relationships:\n",
    "        dox.add_edge(term, do.get_term(id_), key = typedef)\n",
    "\n",
    "assert networkx.is_directed_acyclic_graph(dox)"
   ]
  },
  {
   "cell_type": "code",
   "execution_count": null,
   "metadata": {
    "collapsed": false
   },
   "outputs": [],
   "source": []
  },
  {
   "cell_type": "code",
   "execution_count": 8,
   "metadata": {
    "collapsed": false
   },
   "outputs": [
    {
     "data": {
      "text/plain": [
       "{'alternateIds': [],\n",
       " 'definition': '',\n",
       " 'id': 'DOID:4756',\n",
       " 'name': 'testicular Leydig cell tumor',\n",
       " 'obsolete': False,\n",
       " 'relationships': [('is_a', 'DOID:2696', 'Leydig cell tumor')],\n",
       " 'subsets': [],\n",
       " 'synonyms': [('testicular Leydig cell neoplasm',\n",
       "   'EXACT',\n",
       "   'NCI2004_11_17:C6356')],\n",
       " 'xrefs': ['NCI:C6356', 'UMLS_CUI:C0863027']}"
      ]
     },
     "execution_count": 8,
     "metadata": {},
     "output_type": "execute_result"
    }
   ],
   "source": [
    "term.__dict__"
   ]
  },
  {
   "cell_type": "code",
   "execution_count": 57,
   "metadata": {
    "collapsed": false
   },
   "outputs": [],
   "source": [
    "def write_xref_row(writer, doid_code, doid_name, xrefs):\n",
    "    rows = list()\n",
    "    for xref in xrefs:\n",
    "        resource, resource_id = xref.split(':', 1)\n",
    "        rows.append([doid_code, doid_name, resource, resource_id])\n",
    "    rows.sort()\n",
    "    writer.writerows(rows)\n",
    "\n",
    "file_unprop = open(os.path.join('data', 'xrefs.tsv'), 'w')\n",
    "file_prop = open(os.path.join('data', 'xrefs-prop.tsv'), 'w')\n",
    "\n",
    "writer_unprop = csv.writer(file_unprop, delimiter='\\t')\n",
    "writer_prop = csv.writer(file_prop, delimiter='\\t')\n",
    "\n",
    "for writer in writer_unprop, writer_prop:\n",
    "    writer.writerow(['doid_code', 'doid_name', 'resource', 'resource_id'])\n",
    "\n",
    "for term in networkx.topological_sort_recursive(dox, reverse=True):\n",
    "    xrefs = set(term.xrefs)\n",
    "    xrefs_prop = set(xrefs)\n",
    "    for ancestor in networkx.ancestors(dox, term):\n",
    "        xrefs_prop |= set(ancestor.xrefs)\n",
    "    \n",
    "    write_xref_row(writer_unprop, term.id, term.name, xrefs)\n",
    "    write_xref_row(writer_prop, term.id, term.name, xrefs_prop)\n",
    "\n",
    "for write_file in file_unprop, file_prop:\n",
    "    write_file.close()\n"
   ]
  },
  {
   "cell_type": "code",
   "execution_count": null,
   "metadata": {
    "collapsed": true
   },
   "outputs": [],
   "source": []
  },
  {
   "cell_type": "code",
   "execution_count": 13,
   "metadata": {
    "collapsed": false
   },
   "outputs": [],
   "source": [
    "rows = list()\n",
    "for term in dox:\n",
    "    rows.append({'doid': term.id, 'name': term.name, 'type': 'name'})\n",
    "    for synonym in term.synonyms:\n",
    "        rows.append({'doid': term.id, 'name': synonym[0], 'type': '{}-synonym'.format(synonym[1].lower())})\n",
    "path = os.path.join('data', 'term-names.tsv')\n",
    "with open(path, 'w') as write_file:\n",
    "    writer = csv.DictWriter(write_file, delimiter='\\t', fieldnames=['doid', 'name', 'type'])\n",
    "    writer.writeheader()\n",
    "    writer.writerows(rows)"
   ]
  },
  {
   "cell_type": "code",
   "execution_count": null,
   "metadata": {
    "collapsed": true
   },
   "outputs": [],
   "source": []
  }
 ],
 "metadata": {
  "kernelspec": {
   "display_name": "Python 3",
   "language": "python",
   "name": "python3"
  },
  "language_info": {
   "codemirror_mode": {
    "name": "ipython",
    "version": 3
   },
   "file_extension": ".py",
   "mimetype": "text/x-python",
   "name": "python",
   "nbconvert_exporter": "python",
   "pygments_lexer": "ipython3",
   "version": "3.4.0"
  }
 },
 "nbformat": 4,
 "nbformat_minor": 0
}
